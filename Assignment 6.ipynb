{
 "cells": [
  {
   "cell_type": "markdown",
   "metadata": {},
   "source": [
    "# Omphemetse Mangope \n",
    "\n",
    "Advanced Machine Learning    \n",
    "Assignment 6: Training Neural net using Negative Loglikelihood    \n",
    "Due Date: 17 June 2020    \n"
   ]
  },
  {
   "cell_type": "code",
   "execution_count": 195,
   "metadata": {},
   "outputs": [],
   "source": [
    "import matplotlib.pyplot as plt\n",
    "import pandas as pd\n",
    "from sklearn.preprocessing import scale \n",
    "from sklearn.model_selection import train_test_split\n",
    "import numpy as np"
   ]
  },
  {
   "cell_type": "code",
   "execution_count": 196,
   "metadata": {},
   "outputs": [
    {
     "data": {
      "text/html": [
       "<div>\n",
       "<style scoped>\n",
       "    .dataframe tbody tr th:only-of-type {\n",
       "        vertical-align: middle;\n",
       "    }\n",
       "\n",
       "    .dataframe tbody tr th {\n",
       "        vertical-align: top;\n",
       "    }\n",
       "\n",
       "    .dataframe thead th {\n",
       "        text-align: right;\n",
       "    }\n",
       "</style>\n",
       "<table border=\"1\" class=\"dataframe\">\n",
       "  <thead>\n",
       "    <tr style=\"text-align: right;\">\n",
       "      <th></th>\n",
       "      <th>Gender</th>\n",
       "      <th>Height</th>\n",
       "      <th>Weight</th>\n",
       "    </tr>\n",
       "  </thead>\n",
       "  <tbody>\n",
       "    <tr>\n",
       "      <td>0</td>\n",
       "      <td>Male</td>\n",
       "      <td>73.847017</td>\n",
       "      <td>241.893563</td>\n",
       "    </tr>\n",
       "    <tr>\n",
       "      <td>1</td>\n",
       "      <td>Male</td>\n",
       "      <td>68.781904</td>\n",
       "      <td>162.310473</td>\n",
       "    </tr>\n",
       "  </tbody>\n",
       "</table>\n",
       "</div>"
      ],
      "text/plain": [
       "  Gender     Height      Weight\n",
       "0   Male  73.847017  241.893563\n",
       "1   Male  68.781904  162.310473"
      ]
     },
     "execution_count": 196,
     "metadata": {},
     "output_type": "execute_result"
    }
   ],
   "source": [
    "data = pd.read_csv('weightdataset.csv',sep=';')\n",
    "data.head(2)"
   ]
  },
  {
   "cell_type": "code",
   "execution_count": 197,
   "metadata": {},
   "outputs": [],
   "source": [
    "x = scale(data.Weight) # Data scaling\n",
    "y = scale(data.Height)  # Data Scaling\n",
    "\n",
    "w_input = np.random.random(2) # Randomly assigning weights\n",
    "x_train, x_test,y_train, y_test = train_test_split(x,y, test_size=0.3) # Splitting data into 30% test and 70% train"
   ]
  },
  {
   "cell_type": "markdown",
   "metadata": {},
   "source": [
    "# Functions "
   ]
  },
  {
   "cell_type": "code",
   "execution_count": 198,
   "metadata": {},
   "outputs": [],
   "source": [
    "def des(x):   # Design matrix for x values\n",
    "    n = len(x)\n",
    "    X = np.c_[np.ones(n), x]\n",
    "    return(X)\n",
    "#Please note: Since the bias term is 1, it is treated as an x values in this case which,\n",
    "#is just ones throughou the whole observations\n",
    "\n",
    "def hidden(p,w_in): # hidden node computation\n",
    "    h = p.dot(w_in)\n",
    "    return(h)\n",
    "\n",
    "def sigmoid(x): # Sigmoid Function\n",
    "    return(1/(1 + np.exp(-x)))\n",
    "\n",
    "def der_sigmoid(x):\n",
    "    return(sigmoid(x) * (1 - sigmoid(x)))\n",
    "\n",
    "def y_w(x,w): # Derivative of y_pred with respect to weights\n",
    "    return((1/(1 + np.exp(-x*w)))*(1/(1 + np.exp(-x*w))) * x)"
   ]
  },
  {
   "cell_type": "code",
   "execution_count": 205,
   "metadata": {},
   "outputs": [
    {
     "data": {
      "image/png": "[encoded data removed]",
      "text/plain": [
       "<Figure size 1008x432 with 1 Axes>"
      ]
     },
     "metadata": {
      "needs_background": "light"
     },
     "output_type": "display_data"
    }
   ],
   "source": [
    "X_train = des(x_train) # Fitting training data to design Matrix\n",
    "X_test = des(x_test) # Fitting testing data to design matrix\n",
    "\n",
    "u11 = hidden(X_train,w_input) # Calculating the output of the hidden without sigmoid\n",
    "o11 = sigmoid(X_train) # Output of the sigmoid function, note: 011=y_pred\n",
    "\n",
    "derivative = y_w(X_test,w_input) # Derivative of y_pred with respect to w\n",
    "\n",
    "# Sigmoid function has been used to squash the values of y_train to lie between 0 and 1\n",
    "# Therefore, the data shows that the data solution lies between zero and therefore, the solution can be chosen between 0 and 1\n",
    "\n",
    "plt.figure(figsize=(14,6))\n",
    "plt.plot(X_train, o11, 'b*')\n",
    "plt.title(\"Output values of train data fitted to sigmoid function\")\n",
    "plt.xlabel('x')\n",
    "plt.ylabel('y')\n",
    "plt.show()"
   ]
  },
  {
   "cell_type": "code",
   "execution_count": 206,
   "metadata": {},
   "outputs": [],
   "source": [
    "epochs = 100 # Number of iterations \n",
    "lr = 0.001 # learning rate\n",
    "y_pred = sigmoid(X_test) # prediction\n",
    "\n",
    "\n",
    "def optimize(y_i,y_pred,w,x,epochs,lr, derivative):\n",
    "    \n",
    "    cost = []\n",
    "    weights = []\n",
    "\n",
    "    \n",
    "    nll = 0\n",
    "    \n",
    "    n = len(x)\n",
    "    \n",
    "    for i in range(epochs):\n",
    "        \n",
    "        \n",
    "    \n",
    "        y_i = y_i.reshape(len(y_i),1) # reshaping y values to be to have n x 1 dimensions \n",
    "        \n",
    "        nll = -np.sum((y_i *np.log(w) + (1 - y_i)*np.log(1 - w))) # negative Loglikelihood cost function\n",
    "        err = derivative * nll # Backpropagation. derivative of sigmoid is defined under functions section above\n",
    "        cost.append(err[-1])\n",
    "        \n",
    "        \n",
    "       \n",
    "        \n",
    "        w = w - (lr*(1/n)*sum(y_pred - y_i))\n",
    "        weights.append(w)\n",
    "        \n",
    "    return(cost, weights)"
   ]
  },
  {
   "cell_type": "code",
   "execution_count": 207,
   "metadata": {},
   "outputs": [],
   "source": [
    "error,updated_weights = optimize(y_test,y_pred,w_input,X_test,epochs,lr,der_sigmoid(X_test))\n",
    "weights = updated_weights[-1]\n"
   ]
  },
  {
   "cell_type": "code",
   "execution_count": 208,
   "metadata": {},
   "outputs": [
    {
     "data": {
      "text/plain": [
       "array([0.85247061, 0.8660491 ])"
      ]
     },
     "execution_count": 208,
     "metadata": {},
     "output_type": "execute_result"
    }
   ],
   "source": [
    "weights # weights updated "
   ]
  },
  {
   "cell_type": "code",
   "execution_count": 209,
   "metadata": {},
   "outputs": [
    {
     "data": {
      "image/png": "[encoded data removed]",
      "text/plain": [
       "<Figure size 1008x432 with 1 Axes>"
      ]
     },
     "metadata": {
      "needs_background": "light"
     },
     "output_type": "display_data"
    }
   ],
   "source": [
    "plt.figure(figsize=(14,6))\n",
    "plt.plot(error, color = 'r')\n",
    "plt.title('Negative loglikelihood Cost')\n",
    "plt.xlabel('Number of iterations')\n",
    "plt.ylabel('Cost')\n",
    "plt.show()"
   ]
  },
  {
   "cell_type": "code",
   "execution_count": null,
   "metadata": {},
   "outputs": [],
   "source": []
  }
 ],
 "metadata": {
  "kernelspec": {
   "display_name": "Python 3",
   "language": "python",
   "name": "python3"
  },
  "language_info": {
   "codemirror_mode": {
    "name": "ipython",
    "version": 3
   },
   "file_extension": ".py",
   "mimetype": "text/x-python",
   "name": "python",
   "nbconvert_exporter": "python",
   "pygments_lexer": "ipython3",
   "version": "3.7.4"
  }
 },
 "nbformat": 4,
 "nbformat_minor": 2
}
